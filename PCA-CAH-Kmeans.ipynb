{
 "cells": [
  {
   "cell_type": "markdown",
   "metadata": {},
   "source": [
    "# Data analysis"
   ]
  },
  {
   "cell_type": "code",
   "execution_count": 1,
   "metadata": {},
   "outputs": [],
   "source": [
    "import numpy\n",
    "import pandas\n",
    "import matplotlib.pyplot as plt\n",
    "import seaborn\n",
    "seaborn.set_style(\"white\")\n",
    "\n",
    "# permet d'afficher les graphiques dans un notebook\n",
    "%matplotlib inline"
   ]
  },
  {
   "cell_type": "code",
   "execution_count": 2,
   "metadata": {},
   "outputs": [
    {
     "data": {
      "text/html": [
       "<div>\n",
       "<style scoped>\n",
       "    .dataframe tbody tr th:only-of-type {\n",
       "        vertical-align: middle;\n",
       "    }\n",
       "\n",
       "    .dataframe tbody tr th {\n",
       "        vertical-align: top;\n",
       "    }\n",
       "\n",
       "    .dataframe thead th {\n",
       "        text-align: right;\n",
       "    }\n",
       "</style>\n",
       "<table border=\"1\" class=\"dataframe\">\n",
       "  <thead>\n",
       "    <tr style=\"text-align: right;\">\n",
       "      <th></th>\n",
       "      <th>user_id</th>\n",
       "      <th>username</th>\n",
       "      <th>full_name</th>\n",
       "      <th>bio</th>\n",
       "      <th>follower_count</th>\n",
       "      <th>following_count</th>\n",
       "      <th>private</th>\n",
       "      <th>gender</th>\n",
       "    </tr>\n",
       "  </thead>\n",
       "  <tbody>\n",
       "    <tr>\n",
       "      <th>0</th>\n",
       "      <td>1</td>\n",
       "      <td>achref___ferchichi</td>\n",
       "      <td>achref___ferchichi</td>\n",
       "      <td>Madrid</td>\n",
       "      <td>1892</td>\n",
       "      <td>1358</td>\n",
       "      <td>True</td>\n",
       "      <td>male</td>\n",
       "    </tr>\n",
       "    <tr>\n",
       "      <th>1</th>\n",
       "      <td>2</td>\n",
       "      <td>achref_dhaouadi</td>\n",
       "      <td>achref_dhaouadi</td>\n",
       "      <td>Sacred Heart Pioneer Football • New England Bl...</td>\n",
       "      <td>1734</td>\n",
       "      <td>1248</td>\n",
       "      <td>True</td>\n",
       "      <td>male</td>\n",
       "    </tr>\n",
       "    <tr>\n",
       "      <th>2</th>\n",
       "      <td>3</td>\n",
       "      <td>hazem__belhaj</td>\n",
       "      <td>hazem__belhaj</td>\n",
       "      <td>Professional lacrosse player, nike/n7 athlete ...</td>\n",
       "      <td>1908</td>\n",
       "      <td>135</td>\n",
       "      <td>True</td>\n",
       "      <td>male</td>\n",
       "    </tr>\n",
       "    <tr>\n",
       "      <th>3</th>\n",
       "      <td>4</td>\n",
       "      <td>biiiiibaaa_bicha</td>\n",
       "      <td>biiiiibaaa_bicha</td>\n",
       "      <td>Calandra Cavan Caliana Clayne #MyWorld Onondag...</td>\n",
       "      <td>5267</td>\n",
       "      <td>4238</td>\n",
       "      <td>True</td>\n",
       "      <td>female</td>\n",
       "    </tr>\n",
       "    <tr>\n",
       "      <th>4</th>\n",
       "      <td>5</td>\n",
       "      <td>manelnelly1408</td>\n",
       "      <td>manelnelly1408</td>\n",
       "      <td>Akenhnhi:io Teionakerahserá:ke</td>\n",
       "      <td>6744</td>\n",
       "      <td>5595</td>\n",
       "      <td>True</td>\n",
       "      <td>female</td>\n",
       "    </tr>\n",
       "    <tr>\n",
       "      <th>...</th>\n",
       "      <td>...</td>\n",
       "      <td>...</td>\n",
       "      <td>...</td>\n",
       "      <td>...</td>\n",
       "      <td>...</td>\n",
       "      <td>...</td>\n",
       "      <td>...</td>\n",
       "      <td>...</td>\n",
       "    </tr>\n",
       "    <tr>\n",
       "      <th>329</th>\n",
       "      <td>330</td>\n",
       "      <td>zouuhouur_ellefi</td>\n",
       "      <td>zouuhouur_ellefi</td>\n",
       "      <td>Skiing is my passion\\nLoving is my life\\nNatur...</td>\n",
       "      <td>4567</td>\n",
       "      <td>2290</td>\n",
       "      <td>False</td>\n",
       "      <td>female</td>\n",
       "    </tr>\n",
       "    <tr>\n",
       "      <th>330</th>\n",
       "      <td>331</td>\n",
       "      <td>moetez_mezni_</td>\n",
       "      <td>moetez_mezni_</td>\n",
       "      <td>pro snowboarder, olympic medalist, 4x xgames m...</td>\n",
       "      <td>775</td>\n",
       "      <td>55</td>\n",
       "      <td>False</td>\n",
       "      <td>male</td>\n",
       "    </tr>\n",
       "    <tr>\n",
       "      <th>331</th>\n",
       "      <td>332</td>\n",
       "      <td>ghada113ellefi</td>\n",
       "      <td>ghada113ellefi</td>\n",
       "      <td>Professional Surfer on the WSL. #7 ????</td>\n",
       "      <td>3400</td>\n",
       "      <td>2030</td>\n",
       "      <td>True</td>\n",
       "      <td>female</td>\n",
       "    </tr>\n",
       "    <tr>\n",
       "      <th>333</th>\n",
       "      <td>334</td>\n",
       "      <td>yosramaalaoui</td>\n",
       "      <td>yosramaalaoui</td>\n",
       "      <td>Instagram Oficial do Lutador de MMA e Palestra...</td>\n",
       "      <td>5900</td>\n",
       "      <td>3665</td>\n",
       "      <td>False</td>\n",
       "      <td>female</td>\n",
       "    </tr>\n",
       "    <tr>\n",
       "      <th>334</th>\n",
       "      <td>335</td>\n",
       "      <td>aymanoo87</td>\n",
       "      <td>aymanoo87</td>\n",
       "      <td>We are #nikewomen. Strong alone, unstoppable t...</td>\n",
       "      <td>200</td>\n",
       "      <td>20</td>\n",
       "      <td>False</td>\n",
       "      <td>male</td>\n",
       "    </tr>\n",
       "  </tbody>\n",
       "</table>\n",
       "<p>295 rows × 8 columns</p>\n",
       "</div>"
      ],
      "text/plain": [
       "     user_id            username           full_name  \\\n",
       "0          1  achref___ferchichi  achref___ferchichi   \n",
       "1          2     achref_dhaouadi     achref_dhaouadi   \n",
       "2          3       hazem__belhaj       hazem__belhaj   \n",
       "3          4    biiiiibaaa_bicha    biiiiibaaa_bicha   \n",
       "4          5      manelnelly1408      manelnelly1408   \n",
       "..       ...                 ...                 ...   \n",
       "329      330    zouuhouur_ellefi    zouuhouur_ellefi   \n",
       "330      331       moetez_mezni_       moetez_mezni_   \n",
       "331      332      ghada113ellefi      ghada113ellefi   \n",
       "333      334       yosramaalaoui       yosramaalaoui   \n",
       "334      335           aymanoo87           aymanoo87   \n",
       "\n",
       "                                                   bio  follower_count  \\\n",
       "0                                               Madrid            1892   \n",
       "1    Sacred Heart Pioneer Football • New England Bl...            1734   \n",
       "2    Professional lacrosse player, nike/n7 athlete ...            1908   \n",
       "3    Calandra Cavan Caliana Clayne #MyWorld Onondag...            5267   \n",
       "4                       Akenhnhi:io Teionakerahserá:ke            6744   \n",
       "..                                                 ...             ...   \n",
       "329  Skiing is my passion\\nLoving is my life\\nNatur...            4567   \n",
       "330  pro snowboarder, olympic medalist, 4x xgames m...             775   \n",
       "331            Professional Surfer on the WSL. #7 ????            3400   \n",
       "333  Instagram Oficial do Lutador de MMA e Palestra...            5900   \n",
       "334  We are #nikewomen. Strong alone, unstoppable t...             200   \n",
       "\n",
       "     following_count  private  gender  \n",
       "0               1358     True    male  \n",
       "1               1248     True    male  \n",
       "2                135     True    male  \n",
       "3               4238     True  female  \n",
       "4               5595     True  female  \n",
       "..               ...      ...     ...  \n",
       "329             2290    False  female  \n",
       "330               55    False    male  \n",
       "331             2030     True  female  \n",
       "333             3665    False  female  \n",
       "334               20    False    male  \n",
       "\n",
       "[295 rows x 8 columns]"
      ]
     },
     "execution_count": 2,
     "metadata": {},
     "output_type": "execute_result"
    }
   ],
   "source": [
    "# le dropna() permet de supprimer les lignes pour lesquels il manque des informations\n",
    "WGI_complet = pandas.read_excel(\"C:/Users/Lenovo/Desktop/DMPI/Follow.xlsx\").dropna()\n",
    "WGI_complet"
   ]
  },
  {
   "cell_type": "code",
   "execution_count": 3,
   "metadata": {},
   "outputs": [
    {
     "name": "stdout",
     "output_type": "stream",
     "text": [
      "<class 'pandas.core.frame.DataFrame'>\n",
      "Int64Index: 295 entries, 0 to 334\n",
      "Data columns (total 8 columns):\n",
      " #   Column           Non-Null Count  Dtype \n",
      "---  ------           --------------  ----- \n",
      " 0   user_id          295 non-null    int64 \n",
      " 1   username         295 non-null    object\n",
      " 2   full_name        295 non-null    object\n",
      " 3   bio              295 non-null    object\n",
      " 4   follower_count   295 non-null    int64 \n",
      " 5   following_count  295 non-null    int64 \n",
      " 6   private          295 non-null    bool  \n",
      " 7   gender           295 non-null    object\n",
      "dtypes: bool(1), int64(3), object(4)\n",
      "memory usage: 18.7+ KB\n"
     ]
    }
   ],
   "source": [
    "WGI_complet.info()"
   ]
  },
  {
   "cell_type": "code",
   "execution_count": 4,
   "metadata": {},
   "outputs": [
    {
     "data": {
      "text/html": [
       "<div>\n",
       "<style scoped>\n",
       "    .dataframe tbody tr th:only-of-type {\n",
       "        vertical-align: middle;\n",
       "    }\n",
       "\n",
       "    .dataframe tbody tr th {\n",
       "        vertical-align: top;\n",
       "    }\n",
       "\n",
       "    .dataframe thead th {\n",
       "        text-align: right;\n",
       "    }\n",
       "</style>\n",
       "<table border=\"1\" class=\"dataframe\">\n",
       "  <thead>\n",
       "    <tr style=\"text-align: right;\">\n",
       "      <th></th>\n",
       "      <th>user_id</th>\n",
       "      <th>follower_count</th>\n",
       "      <th>following_count</th>\n",
       "    </tr>\n",
       "  </thead>\n",
       "  <tbody>\n",
       "    <tr>\n",
       "      <th>count</th>\n",
       "      <td>295.000000</td>\n",
       "      <td>295.000000</td>\n",
       "      <td>295.000000</td>\n",
       "    </tr>\n",
       "    <tr>\n",
       "      <th>mean</th>\n",
       "      <td>168.691525</td>\n",
       "      <td>2878.949153</td>\n",
       "      <td>1871.613559</td>\n",
       "    </tr>\n",
       "    <tr>\n",
       "      <th>std</th>\n",
       "      <td>97.236176</td>\n",
       "      <td>2412.543631</td>\n",
       "      <td>1685.408249</td>\n",
       "    </tr>\n",
       "    <tr>\n",
       "      <th>min</th>\n",
       "      <td>1.000000</td>\n",
       "      <td>37.000000</td>\n",
       "      <td>6.000000</td>\n",
       "    </tr>\n",
       "    <tr>\n",
       "      <th>25%</th>\n",
       "      <td>81.500000</td>\n",
       "      <td>952.000000</td>\n",
       "      <td>397.000000</td>\n",
       "    </tr>\n",
       "    <tr>\n",
       "      <th>50%</th>\n",
       "      <td>172.000000</td>\n",
       "      <td>1790.000000</td>\n",
       "      <td>985.000000</td>\n",
       "    </tr>\n",
       "    <tr>\n",
       "      <th>75%</th>\n",
       "      <td>253.000000</td>\n",
       "      <td>4571.000000</td>\n",
       "      <td>3358.500000</td>\n",
       "    </tr>\n",
       "    <tr>\n",
       "      <th>max</th>\n",
       "      <td>335.000000</td>\n",
       "      <td>9678.000000</td>\n",
       "      <td>7691.000000</td>\n",
       "    </tr>\n",
       "  </tbody>\n",
       "</table>\n",
       "</div>"
      ],
      "text/plain": [
       "          user_id  follower_count  following_count\n",
       "count  295.000000      295.000000       295.000000\n",
       "mean   168.691525     2878.949153      1871.613559\n",
       "std     97.236176     2412.543631      1685.408249\n",
       "min      1.000000       37.000000         6.000000\n",
       "25%     81.500000      952.000000       397.000000\n",
       "50%    172.000000     1790.000000       985.000000\n",
       "75%    253.000000     4571.000000      3358.500000\n",
       "max    335.000000     9678.000000      7691.000000"
      ]
     },
     "execution_count": 4,
     "metadata": {},
     "output_type": "execute_result"
    }
   ],
   "source": [
    "WGI_complet.describe()"
   ]
  },
  {
   "cell_type": "code",
   "execution_count": 5,
   "metadata": {},
   "outputs": [
    {
     "data": {
      "text/html": [
       "<div>\n",
       "<style scoped>\n",
       "    .dataframe tbody tr th:only-of-type {\n",
       "        vertical-align: middle;\n",
       "    }\n",
       "\n",
       "    .dataframe tbody tr th {\n",
       "        vertical-align: top;\n",
       "    }\n",
       "\n",
       "    .dataframe thead th {\n",
       "        text-align: right;\n",
       "    }\n",
       "</style>\n",
       "<table border=\"1\" class=\"dataframe\">\n",
       "  <thead>\n",
       "    <tr style=\"text-align: right;\">\n",
       "      <th></th>\n",
       "      <th>user_id</th>\n",
       "      <th>follower_count</th>\n",
       "      <th>following_count</th>\n",
       "      <th>private</th>\n",
       "      <th>gender</th>\n",
       "    </tr>\n",
       "  </thead>\n",
       "  <tbody>\n",
       "    <tr>\n",
       "      <th>0</th>\n",
       "      <td>1</td>\n",
       "      <td>1892</td>\n",
       "      <td>1358</td>\n",
       "      <td>1</td>\n",
       "      <td>1</td>\n",
       "    </tr>\n",
       "    <tr>\n",
       "      <th>1</th>\n",
       "      <td>2</td>\n",
       "      <td>1734</td>\n",
       "      <td>1248</td>\n",
       "      <td>1</td>\n",
       "      <td>1</td>\n",
       "    </tr>\n",
       "    <tr>\n",
       "      <th>2</th>\n",
       "      <td>3</td>\n",
       "      <td>1908</td>\n",
       "      <td>135</td>\n",
       "      <td>1</td>\n",
       "      <td>1</td>\n",
       "    </tr>\n",
       "    <tr>\n",
       "      <th>3</th>\n",
       "      <td>4</td>\n",
       "      <td>5267</td>\n",
       "      <td>4238</td>\n",
       "      <td>1</td>\n",
       "      <td>2</td>\n",
       "    </tr>\n",
       "    <tr>\n",
       "      <th>4</th>\n",
       "      <td>5</td>\n",
       "      <td>6744</td>\n",
       "      <td>5595</td>\n",
       "      <td>1</td>\n",
       "      <td>2</td>\n",
       "    </tr>\n",
       "    <tr>\n",
       "      <th>...</th>\n",
       "      <td>...</td>\n",
       "      <td>...</td>\n",
       "      <td>...</td>\n",
       "      <td>...</td>\n",
       "      <td>...</td>\n",
       "    </tr>\n",
       "    <tr>\n",
       "      <th>329</th>\n",
       "      <td>330</td>\n",
       "      <td>4567</td>\n",
       "      <td>2290</td>\n",
       "      <td>0</td>\n",
       "      <td>2</td>\n",
       "    </tr>\n",
       "    <tr>\n",
       "      <th>330</th>\n",
       "      <td>331</td>\n",
       "      <td>775</td>\n",
       "      <td>55</td>\n",
       "      <td>0</td>\n",
       "      <td>1</td>\n",
       "    </tr>\n",
       "    <tr>\n",
       "      <th>331</th>\n",
       "      <td>332</td>\n",
       "      <td>3400</td>\n",
       "      <td>2030</td>\n",
       "      <td>1</td>\n",
       "      <td>2</td>\n",
       "    </tr>\n",
       "    <tr>\n",
       "      <th>333</th>\n",
       "      <td>334</td>\n",
       "      <td>5900</td>\n",
       "      <td>3665</td>\n",
       "      <td>0</td>\n",
       "      <td>2</td>\n",
       "    </tr>\n",
       "    <tr>\n",
       "      <th>334</th>\n",
       "      <td>335</td>\n",
       "      <td>200</td>\n",
       "      <td>20</td>\n",
       "      <td>0</td>\n",
       "      <td>1</td>\n",
       "    </tr>\n",
       "  </tbody>\n",
       "</table>\n",
       "<p>295 rows × 5 columns</p>\n",
       "</div>"
      ],
      "text/plain": [
       "     user_id  follower_count  following_count  private  gender\n",
       "0          1            1892             1358        1       1\n",
       "1          2            1734             1248        1       1\n",
       "2          3            1908              135        1       1\n",
       "3          4            5267             4238        1       2\n",
       "4          5            6744             5595        1       2\n",
       "..       ...             ...              ...      ...     ...\n",
       "329      330            4567             2290        0       2\n",
       "330      331             775               55        0       1\n",
       "331      332            3400             2030        1       2\n",
       "333      334            5900             3665        0       2\n",
       "334      335             200               20        0       1\n",
       "\n",
       "[295 rows x 5 columns]"
      ]
     },
     "execution_count": 5,
     "metadata": {},
     "output_type": "execute_result"
    }
   ],
   "source": [
    "WGI = WGI_complet.drop(columns = [\"bio\", \"full_name\",\"username\"])\n",
    "\n",
    "WGI[\"gender\"].replace(\n",
    "    [\n",
    "        \"male\"\n",
    "    ],\n",
    "    1,\n",
    "    inplace=True,\n",
    ")\n",
    "WGI[\"gender\"].replace(\n",
    "    [\n",
    "        \"female\"\n",
    "    ],\n",
    "    2,\n",
    "    inplace=True,\n",
    ")\n",
    "ds = {True: 1, False: 0}\n",
    "WGI[\"private\"] = WGI[\"private\"].map(ds)\n",
    "\n",
    "WGI"
   ]
  },
  {
   "cell_type": "code",
   "execution_count": 6,
   "metadata": {},
   "outputs": [
    {
     "data": {
      "text/plain": [
       "array([[<AxesSubplot:xlabel='user_id', ylabel='user_id'>,\n",
       "        <AxesSubplot:xlabel='follower_count', ylabel='user_id'>,\n",
       "        <AxesSubplot:xlabel='following_count', ylabel='user_id'>,\n",
       "        <AxesSubplot:xlabel='private', ylabel='user_id'>,\n",
       "        <AxesSubplot:xlabel='gender', ylabel='user_id'>],\n",
       "       [<AxesSubplot:xlabel='user_id', ylabel='follower_count'>,\n",
       "        <AxesSubplot:xlabel='follower_count', ylabel='follower_count'>,\n",
       "        <AxesSubplot:xlabel='following_count', ylabel='follower_count'>,\n",
       "        <AxesSubplot:xlabel='private', ylabel='follower_count'>,\n",
       "        <AxesSubplot:xlabel='gender', ylabel='follower_count'>],\n",
       "       [<AxesSubplot:xlabel='user_id', ylabel='following_count'>,\n",
       "        <AxesSubplot:xlabel='follower_count', ylabel='following_count'>,\n",
       "        <AxesSubplot:xlabel='following_count', ylabel='following_count'>,\n",
       "        <AxesSubplot:xlabel='private', ylabel='following_count'>,\n",
       "        <AxesSubplot:xlabel='gender', ylabel='following_count'>],\n",
       "       [<AxesSubplot:xlabel='user_id', ylabel='private'>,\n",
       "        <AxesSubplot:xlabel='follower_count', ylabel='private'>,\n",
       "        <AxesSubplot:xlabel='following_count', ylabel='private'>,\n",
       "        <AxesSubplot:xlabel='private', ylabel='private'>,\n",
       "        <AxesSubplot:xlabel='gender', ylabel='private'>],\n",
       "       [<AxesSubplot:xlabel='user_id', ylabel='gender'>,\n",
       "        <AxesSubplot:xlabel='follower_count', ylabel='gender'>,\n",
       "        <AxesSubplot:xlabel='following_count', ylabel='gender'>,\n",
       "        <AxesSubplot:xlabel='private', ylabel='gender'>,\n",
       "        <AxesSubplot:xlabel='gender', ylabel='gender'>]], dtype=object)"
      ]
     },
     "execution_count": 6,
     "metadata": {},
     "output_type": "execute_result"
    },
    {
     "data": {
      "image/png": "[encoded data removed]",
      "text/plain": [
       "<Figure size 720x720 with 25 Axes>"
      ]
     },
     "metadata": {
      "needs_background": "light"
     },
     "output_type": "display_data"
    }
   ],
   "source": [
    "pandas.plotting.scatter_matrix(WGI,figsize=(10,10))\n"
   ]
  },
  {
   "cell_type": "markdown",
   "metadata": {},
   "source": [
    "# PCA Model"
   ]
  },
  {
   "cell_type": "code",
   "execution_count": 7,
   "metadata": {},
   "outputs": [
    {
     "data": {
      "text/html": [
       "<div>\n",
       "<style scoped>\n",
       "    .dataframe tbody tr th:only-of-type {\n",
       "        vertical-align: middle;\n",
       "    }\n",
       "\n",
       "    .dataframe tbody tr th {\n",
       "        vertical-align: top;\n",
       "    }\n",
       "\n",
       "    .dataframe thead th {\n",
       "        text-align: right;\n",
       "    }\n",
       "</style>\n",
       "<table border=\"1\" class=\"dataframe\">\n",
       "  <thead>\n",
       "    <tr style=\"text-align: right;\">\n",
       "      <th></th>\n",
       "      <th>user_id</th>\n",
       "      <th>follower_count</th>\n",
       "      <th>following_count</th>\n",
       "    </tr>\n",
       "  </thead>\n",
       "  <tbody>\n",
       "    <tr>\n",
       "      <th>0</th>\n",
       "      <td>1</td>\n",
       "      <td>1892</td>\n",
       "      <td>1358</td>\n",
       "    </tr>\n",
       "    <tr>\n",
       "      <th>1</th>\n",
       "      <td>2</td>\n",
       "      <td>1734</td>\n",
       "      <td>1248</td>\n",
       "    </tr>\n",
       "    <tr>\n",
       "      <th>2</th>\n",
       "      <td>3</td>\n",
       "      <td>1908</td>\n",
       "      <td>135</td>\n",
       "    </tr>\n",
       "    <tr>\n",
       "      <th>3</th>\n",
       "      <td>4</td>\n",
       "      <td>5267</td>\n",
       "      <td>4238</td>\n",
       "    </tr>\n",
       "    <tr>\n",
       "      <th>4</th>\n",
       "      <td>5</td>\n",
       "      <td>6744</td>\n",
       "      <td>5595</td>\n",
       "    </tr>\n",
       "    <tr>\n",
       "      <th>...</th>\n",
       "      <td>...</td>\n",
       "      <td>...</td>\n",
       "      <td>...</td>\n",
       "    </tr>\n",
       "    <tr>\n",
       "      <th>329</th>\n",
       "      <td>330</td>\n",
       "      <td>4567</td>\n",
       "      <td>2290</td>\n",
       "    </tr>\n",
       "    <tr>\n",
       "      <th>330</th>\n",
       "      <td>331</td>\n",
       "      <td>775</td>\n",
       "      <td>55</td>\n",
       "    </tr>\n",
       "    <tr>\n",
       "      <th>331</th>\n",
       "      <td>332</td>\n",
       "      <td>3400</td>\n",
       "      <td>2030</td>\n",
       "    </tr>\n",
       "    <tr>\n",
       "      <th>333</th>\n",
       "      <td>334</td>\n",
       "      <td>5900</td>\n",
       "      <td>3665</td>\n",
       "    </tr>\n",
       "    <tr>\n",
       "      <th>334</th>\n",
       "      <td>335</td>\n",
       "      <td>200</td>\n",
       "      <td>20</td>\n",
       "    </tr>\n",
       "  </tbody>\n",
       "</table>\n",
       "<p>295 rows × 3 columns</p>\n",
       "</div>"
      ],
      "text/plain": [
       "     user_id  follower_count  following_count\n",
       "0          1            1892             1358\n",
       "1          2            1734             1248\n",
       "2          3            1908              135\n",
       "3          4            5267             4238\n",
       "4          5            6744             5595\n",
       "..       ...             ...              ...\n",
       "329      330            4567             2290\n",
       "330      331             775               55\n",
       "331      332            3400             2030\n",
       "333      334            5900             3665\n",
       "334      335             200               20\n",
       "\n",
       "[295 rows x 3 columns]"
      ]
     },
     "execution_count": 7,
     "metadata": {},
     "output_type": "execute_result"
    }
   ],
   "source": [
    "#permet d’analyser et de visualiser un jeu de données contenant des individus décrits par plusieurs variables quantitatives.\n",
    "\n",
    "from sklearn.decomposition import PCA\n",
    "from sklearn.preprocessing import scale\n",
    "\n",
    "# suppression des colonnes non numériques\n",
    "WGI_num = WGI_complet.drop(columns = [\"bio\", \"full_name\",\"username\",\"private\", \"gender\"])\n",
    "pca = PCA()\n",
    "pca.fit(WGI_num)\n",
    "WGI_num"
   ]
  },
  {
   "cell_type": "code",
   "execution_count": 8,
   "metadata": {},
   "outputs": [],
   "source": [
    "#Représentation des individus\n",
    "WGI_pca = pca.transform(WGI_num)"
   ]
  },
  {
   "cell_type": "code",
   "execution_count": 9,
   "metadata": {},
   "outputs": [
    {
     "data": {
      "text/html": [
       "<div>\n",
       "<style scoped>\n",
       "    .dataframe tbody tr th:only-of-type {\n",
       "        vertical-align: middle;\n",
       "    }\n",
       "\n",
       "    .dataframe tbody tr th {\n",
       "        vertical-align: top;\n",
       "    }\n",
       "\n",
       "    .dataframe thead th {\n",
       "        text-align: right;\n",
       "    }\n",
       "</style>\n",
       "<table border=\"1\" class=\"dataframe\">\n",
       "  <thead>\n",
       "    <tr style=\"text-align: right;\">\n",
       "      <th></th>\n",
       "      <th>Following</th>\n",
       "      <th>Followers</th>\n",
       "      <th>private</th>\n",
       "      <th>gender</th>\n",
       "    </tr>\n",
       "  </thead>\n",
       "  <tbody>\n",
       "    <tr>\n",
       "      <th>0</th>\n",
       "      <td>-1110.390003</td>\n",
       "      <td>88.133951</td>\n",
       "      <td>True</td>\n",
       "      <td>male</td>\n",
       "    </tr>\n",
       "    <tr>\n",
       "      <th>1</th>\n",
       "      <td>-1302.672457</td>\n",
       "      <td>78.901603</td>\n",
       "      <td>True</td>\n",
       "      <td>male</td>\n",
       "    </tr>\n",
       "    <tr>\n",
       "      <th>2</th>\n",
       "      <td>-1746.545266</td>\n",
       "      <td>-956.416917</td>\n",
       "      <td>True</td>\n",
       "      <td>male</td>\n",
       "    </tr>\n",
       "    <tr>\n",
       "      <th>3</th>\n",
       "      <td>3278.849199</td>\n",
       "      <td>734.766192</td>\n",
       "      <td>True</td>\n",
       "      <td>female</td>\n",
       "    </tr>\n",
       "    <tr>\n",
       "      <th>4</th>\n",
       "      <td>5251.041240</td>\n",
       "      <td>1099.606699</td>\n",
       "      <td>True</td>\n",
       "      <td>female</td>\n",
       "    </tr>\n",
       "  </tbody>\n",
       "</table>\n",
       "</div>"
      ],
      "text/plain": [
       "     Following    Followers  private  gender\n",
       "0 -1110.390003    88.133951     True    male\n",
       "1 -1302.672457    78.901603     True    male\n",
       "2 -1746.545266  -956.416917     True    male\n",
       "3  3278.849199   734.766192     True  female\n",
       "4  5251.041240  1099.606699     True  female"
      ]
     },
     "execution_count": 9,
     "metadata": {},
     "output_type": "execute_result"
    }
   ],
   "source": [
    "# Transformation en DataFrame pandas\n",
    "WGI_pca_df = pandas.DataFrame({\n",
    "    \"Following\" : WGI_pca[:,0], \n",
    "    \"Followers\" : WGI_pca[:,1],\n",
    "    \"private\" : WGI_complet[\"private\"],\n",
    "    \"gender\" : WGI_complet[\"gender\"]\n",
    "})\n",
    "\n",
    "# Résultat (premières lignes)\n",
    "WGI_pca_df.head()"
   ]
  },
  {
   "cell_type": "code",
   "execution_count": 10,
   "metadata": {},
   "outputs": [
    {
     "data": {
      "image/png": "[encoded data removed]",
      "text/plain": [
       "<Figure size 432x288 with 1 Axes>"
      ]
     },
     "metadata": {
      "needs_background": "light"
     },
     "output_type": "display_data"
    }
   ],
   "source": [
    "#représentation des données sur le premier plan factoriel\n",
    "WGI_pca_df.plot.scatter(\"Following\", \"Followers\") # nuage de points\n",
    "plt.xlabel(\"Following  \") # modification du nom de l'axe X\n",
    "plt.ylabel(\"Followers   \") # idem pour axe Y\n",
    "plt.suptitle(\"First factorial plan \") # titre général\n",
    "plt.show()"
   ]
  },
  {
   "cell_type": "code",
   "execution_count": 11,
   "metadata": {},
   "outputs": [
    {
     "data": {
      "image/png": "[encoded data removed]",
      "text/plain": [
       "<Figure size 432x288 with 1 Axes>"
      ]
     },
     "metadata": {
      "needs_background": "light"
     },
     "output_type": "display_data"
    }
   ],
   "source": [
    "fig, ax = plt.subplots()\n",
    "WGI_pca_df.plot.scatter(\"Following\", \"Followers\", ax = ax) # l'option ax permet de placer les points et le texte sur le même graphique\n",
    "\n",
    "# boucle sur chaque genre\n",
    "for k in WGI_pca_df.iterrows():\n",
    "    # annotation uniquement si valeur absolue sur une de 2 dimensions importantes (valeurs choisies empiriquement)\n",
    "\n",
    "        ax.annotate(k[1][\"gender\"], (k[1]['Following'], k[1]['Followers']), fontsize = 9)\n",
    "plt.xlabel(\"Following  \") \n",
    "plt.ylabel(\"Followers  \")\n",
    "plt.suptitle(\"First factorial plan \")\n",
    "plt.show()"
   ]
  },
  {
   "cell_type": "code",
   "execution_count": 12,
   "metadata": {},
   "outputs": [
    {
     "data": {
      "text/plain": [
       "{'male': array([0.10588235, 0.61960784, 0.46666667, 1.        ]),\n",
       " 'female': array([0.85098039, 0.37254902, 0.00784314, 1.        ])}"
      ]
     },
     "execution_count": 12,
     "metadata": {},
     "output_type": "execute_result"
    }
   ],
   "source": [
    "# permet de créer une palette de couleurs\n",
    "palette = plt.get_cmap(\"Dark2\")\n",
    "# associe une couleur à chaque gender \n",
    "couleurs = dict(zip(WGI_pca_df[\"gender\"].drop_duplicates(), palette(range(2))))\n",
    "couleurs"
   ]
  },
  {
   "cell_type": "code",
   "execution_count": 13,
   "metadata": {},
   "outputs": [
    {
     "data": {
      "text/plain": [
       "array([0.10588235, 0.61960784, 0.46666667, 1.        ])"
      ]
     },
     "execution_count": 13,
     "metadata": {},
     "output_type": "execute_result"
    }
   ],
   "source": [
    "couleurs[\"male\"]"
   ]
  },
  {
   "cell_type": "code",
   "execution_count": 14,
   "metadata": {},
   "outputs": [
    {
     "data": {
      "text/plain": [
       "array([0.85098039, 0.37254902, 0.00784314, 1.        ])"
      ]
     },
     "execution_count": 14,
     "metadata": {},
     "output_type": "execute_result"
    }
   ],
   "source": [
    "couleurs[\"female\"]"
   ]
  },
  {
   "cell_type": "code",
   "execution_count": 15,
   "metadata": {},
   "outputs": [
    {
     "data": {
      "text/plain": [
       "{'male': 0, 'female': 1}"
      ]
     },
     "execution_count": 15,
     "metadata": {},
     "output_type": "execute_result"
    }
   ],
   "source": [
    "position = dict(zip(couleurs.keys(), range(2)))\n",
    "position"
   ]
  },
  {
   "cell_type": "code",
   "execution_count": 16,
   "metadata": {},
   "outputs": [
    {
     "data": {
      "image/png": "[encoded data removed]",
      "text/plain": [
       "<Figure size 432x288 with 1 Axes>"
      ]
     },
     "metadata": {
      "needs_background": "light"
     },
     "output_type": "display_data"
    }
   ],
   "source": [
    "# Affichage des points avec une liste de couleurs\n",
    "WGI_pca_df.plot.scatter(x = \"Following\", y = \"Followers\", c = [couleurs[p] for p in WGI_pca_df[\"gender\"]])\n",
    "# boucle pour afficher la légende\n",
    "for cont, coul in couleurs.items():\n",
    "    plt.scatter(3, position[cont], c = [coul], s = 20)\n",
    "    plt.text(3.2, position[cont], cont)\n",
    "plt.xlabel(\"Following \") \n",
    "plt.ylabel(\"Followers \")\n",
    "plt.suptitle(\"Second factorial plan \")\n",
    "plt.show()"
   ]
  },
  {
   "cell_type": "code",
   "execution_count": 17,
   "metadata": {},
   "outputs": [
    {
     "data": {
      "image/png": "[encoded data removed]",
      "text/plain": [
       "<Figure size 432x288 with 2 Axes>"
      ]
     },
     "metadata": {
      "needs_background": "light"
     },
     "output_type": "display_data"
    }
   ],
   "source": [
    "fig = plt.figure()\n",
    "fig.subplots_adjust(hspace = 0.4, wspace = 0.4)\n",
    "for cont, coul in couleurs.items():\n",
    "    \n",
    "    #dimenssion (height,width)\n",
    "    ax = fig.add_subplot(2, 3, position[cont]+1 )\n",
    "    temp = WGI_pca_df.query('gender == \"' + cont + '\"')\n",
    "    temp.plot.scatter(x = \"Following\", y = \"Followers\", c = [coul], ax = ax)\n",
    "    ax.set_title(cont)\n",
    "    ax.set_xlim(WGI_pca_df.Following.quantile([0, 1])) # permet d'avoir min et max\n",
    "    ax.set_ylim(WGI_pca_df.Followers.quantile([0, 1])) # idem\n",
    "    ax.set_xlabel(\"\")\n",
    "    ax.set_ylabel(\"\")\n",
    "plt.show()"
   ]
  },
  {
   "cell_type": "code",
   "execution_count": 18,
   "metadata": {},
   "outputs": [
    {
     "data": {
      "text/html": [
       "<div>\n",
       "<style scoped>\n",
       "    .dataframe tbody tr th:only-of-type {\n",
       "        vertical-align: middle;\n",
       "    }\n",
       "\n",
       "    .dataframe tbody tr th {\n",
       "        vertical-align: top;\n",
       "    }\n",
       "\n",
       "    .dataframe thead th {\n",
       "        text-align: right;\n",
       "    }\n",
       "</style>\n",
       "<table border=\"1\" class=\"dataframe\">\n",
       "  <thead>\n",
       "    <tr style=\"text-align: right;\">\n",
       "      <th></th>\n",
       "      <th>user_id</th>\n",
       "      <th>username</th>\n",
       "      <th>full_name</th>\n",
       "      <th>bio</th>\n",
       "      <th>follower_count</th>\n",
       "      <th>following_count</th>\n",
       "      <th>private</th>\n",
       "      <th>gender</th>\n",
       "    </tr>\n",
       "  </thead>\n",
       "  <tbody>\n",
       "    <tr>\n",
       "      <th>0</th>\n",
       "      <td>1</td>\n",
       "      <td>achref___ferchichi</td>\n",
       "      <td>achref___ferchichi</td>\n",
       "      <td>Madrid</td>\n",
       "      <td>1892</td>\n",
       "      <td>1358</td>\n",
       "      <td>True</td>\n",
       "      <td>male</td>\n",
       "    </tr>\n",
       "    <tr>\n",
       "      <th>1</th>\n",
       "      <td>2</td>\n",
       "      <td>achref_dhaouadi</td>\n",
       "      <td>achref_dhaouadi</td>\n",
       "      <td>Sacred Heart Pioneer Football • New England Bl...</td>\n",
       "      <td>1734</td>\n",
       "      <td>1248</td>\n",
       "      <td>True</td>\n",
       "      <td>male</td>\n",
       "    </tr>\n",
       "    <tr>\n",
       "      <th>2</th>\n",
       "      <td>3</td>\n",
       "      <td>hazem__belhaj</td>\n",
       "      <td>hazem__belhaj</td>\n",
       "      <td>Professional lacrosse player, nike/n7 athlete ...</td>\n",
       "      <td>1908</td>\n",
       "      <td>135</td>\n",
       "      <td>True</td>\n",
       "      <td>male</td>\n",
       "    </tr>\n",
       "    <tr>\n",
       "      <th>3</th>\n",
       "      <td>4</td>\n",
       "      <td>biiiiibaaa_bicha</td>\n",
       "      <td>biiiiibaaa_bicha</td>\n",
       "      <td>Calandra Cavan Caliana Clayne #MyWorld Onondag...</td>\n",
       "      <td>5267</td>\n",
       "      <td>4238</td>\n",
       "      <td>True</td>\n",
       "      <td>female</td>\n",
       "    </tr>\n",
       "    <tr>\n",
       "      <th>4</th>\n",
       "      <td>5</td>\n",
       "      <td>manelnelly1408</td>\n",
       "      <td>manelnelly1408</td>\n",
       "      <td>Akenhnhi:io Teionakerahserá:ke</td>\n",
       "      <td>6744</td>\n",
       "      <td>5595</td>\n",
       "      <td>True</td>\n",
       "      <td>female</td>\n",
       "    </tr>\n",
       "    <tr>\n",
       "      <th>...</th>\n",
       "      <td>...</td>\n",
       "      <td>...</td>\n",
       "      <td>...</td>\n",
       "      <td>...</td>\n",
       "      <td>...</td>\n",
       "      <td>...</td>\n",
       "      <td>...</td>\n",
       "      <td>...</td>\n",
       "    </tr>\n",
       "    <tr>\n",
       "      <th>329</th>\n",
       "      <td>330</td>\n",
       "      <td>zouuhouur_ellefi</td>\n",
       "      <td>zouuhouur_ellefi</td>\n",
       "      <td>Skiing is my passion\\nLoving is my life\\nNatur...</td>\n",
       "      <td>4567</td>\n",
       "      <td>2290</td>\n",
       "      <td>False</td>\n",
       "      <td>female</td>\n",
       "    </tr>\n",
       "    <tr>\n",
       "      <th>330</th>\n",
       "      <td>331</td>\n",
       "      <td>moetez_mezni_</td>\n",
       "      <td>moetez_mezni_</td>\n",
       "      <td>pro snowboarder, olympic medalist, 4x xgames m...</td>\n",
       "      <td>775</td>\n",
       "      <td>55</td>\n",
       "      <td>False</td>\n",
       "      <td>male</td>\n",
       "    </tr>\n",
       "    <tr>\n",
       "      <th>331</th>\n",
       "      <td>332</td>\n",
       "      <td>ghada113ellefi</td>\n",
       "      <td>ghada113ellefi</td>\n",
       "      <td>Professional Surfer on the WSL. #7 ????</td>\n",
       "      <td>3400</td>\n",
       "      <td>2030</td>\n",
       "      <td>True</td>\n",
       "      <td>female</td>\n",
       "    </tr>\n",
       "    <tr>\n",
       "      <th>333</th>\n",
       "      <td>334</td>\n",
       "      <td>yosramaalaoui</td>\n",
       "      <td>yosramaalaoui</td>\n",
       "      <td>Instagram Oficial do Lutador de MMA e Palestra...</td>\n",
       "      <td>5900</td>\n",
       "      <td>3665</td>\n",
       "      <td>False</td>\n",
       "      <td>female</td>\n",
       "    </tr>\n",
       "    <tr>\n",
       "      <th>334</th>\n",
       "      <td>335</td>\n",
       "      <td>aymanoo87</td>\n",
       "      <td>aymanoo87</td>\n",
       "      <td>We are #nikewomen. Strong alone, unstoppable t...</td>\n",
       "      <td>200</td>\n",
       "      <td>20</td>\n",
       "      <td>False</td>\n",
       "      <td>male</td>\n",
       "    </tr>\n",
       "  </tbody>\n",
       "</table>\n",
       "<p>295 rows × 8 columns</p>\n",
       "</div>"
      ],
      "text/plain": [
       "     user_id            username           full_name  \\\n",
       "0          1  achref___ferchichi  achref___ferchichi   \n",
       "1          2     achref_dhaouadi     achref_dhaouadi   \n",
       "2          3       hazem__belhaj       hazem__belhaj   \n",
       "3          4    biiiiibaaa_bicha    biiiiibaaa_bicha   \n",
       "4          5      manelnelly1408      manelnelly1408   \n",
       "..       ...                 ...                 ...   \n",
       "329      330    zouuhouur_ellefi    zouuhouur_ellefi   \n",
       "330      331       moetez_mezni_       moetez_mezni_   \n",
       "331      332      ghada113ellefi      ghada113ellefi   \n",
       "333      334       yosramaalaoui       yosramaalaoui   \n",
       "334      335           aymanoo87           aymanoo87   \n",
       "\n",
       "                                                   bio  follower_count  \\\n",
       "0                                               Madrid            1892   \n",
       "1    Sacred Heart Pioneer Football • New England Bl...            1734   \n",
       "2    Professional lacrosse player, nike/n7 athlete ...            1908   \n",
       "3    Calandra Cavan Caliana Clayne #MyWorld Onondag...            5267   \n",
       "4                       Akenhnhi:io Teionakerahserá:ke            6744   \n",
       "..                                                 ...             ...   \n",
       "329  Skiing is my passion\\nLoving is my life\\nNatur...            4567   \n",
       "330  pro snowboarder, olympic medalist, 4x xgames m...             775   \n",
       "331            Professional Surfer on the WSL. #7 ????            3400   \n",
       "333  Instagram Oficial do Lutador de MMA e Palestra...            5900   \n",
       "334  We are #nikewomen. Strong alone, unstoppable t...             200   \n",
       "\n",
       "     following_count  private  gender  \n",
       "0               1358     True    male  \n",
       "1               1248     True    male  \n",
       "2                135     True    male  \n",
       "3               4238     True  female  \n",
       "4               5595     True  female  \n",
       "..               ...      ...     ...  \n",
       "329             2290    False  female  \n",
       "330               55    False    male  \n",
       "331             2030     True  female  \n",
       "333             3665    False  female  \n",
       "334               20    False    male  \n",
       "\n",
       "[295 rows x 8 columns]"
      ]
     },
     "execution_count": 18,
     "metadata": {},
     "output_type": "execute_result"
    }
   ],
   "source": [
    "WGI_complet"
   ]
  },
  {
   "cell_type": "code",
   "execution_count": 19,
   "metadata": {},
   "outputs": [
    {
     "data": {
      "text/html": [
       "<div>\n",
       "<style scoped>\n",
       "    .dataframe tbody tr th:only-of-type {\n",
       "        vertical-align: middle;\n",
       "    }\n",
       "\n",
       "    .dataframe tbody tr th {\n",
       "        vertical-align: top;\n",
       "    }\n",
       "\n",
       "    .dataframe thead th {\n",
       "        text-align: right;\n",
       "    }\n",
       "</style>\n",
       "<table border=\"1\" class=\"dataframe\">\n",
       "  <thead>\n",
       "    <tr style=\"text-align: right;\">\n",
       "      <th></th>\n",
       "      <th>Following</th>\n",
       "      <th>Followers</th>\n",
       "      <th>private</th>\n",
       "      <th>gender</th>\n",
       "    </tr>\n",
       "  </thead>\n",
       "  <tbody>\n",
       "    <tr>\n",
       "      <th>0</th>\n",
       "      <td>-1110.390003</td>\n",
       "      <td>88.133951</td>\n",
       "      <td>True</td>\n",
       "      <td>male</td>\n",
       "    </tr>\n",
       "    <tr>\n",
       "      <th>1</th>\n",
       "      <td>-1302.672457</td>\n",
       "      <td>78.901603</td>\n",
       "      <td>True</td>\n",
       "      <td>male</td>\n",
       "    </tr>\n",
       "    <tr>\n",
       "      <th>2</th>\n",
       "      <td>-1746.545266</td>\n",
       "      <td>-956.416917</td>\n",
       "      <td>True</td>\n",
       "      <td>male</td>\n",
       "    </tr>\n",
       "    <tr>\n",
       "      <th>3</th>\n",
       "      <td>3278.849199</td>\n",
       "      <td>734.766192</td>\n",
       "      <td>True</td>\n",
       "      <td>female</td>\n",
       "    </tr>\n",
       "    <tr>\n",
       "      <th>4</th>\n",
       "      <td>5251.041240</td>\n",
       "      <td>1099.606699</td>\n",
       "      <td>True</td>\n",
       "      <td>female</td>\n",
       "    </tr>\n",
       "    <tr>\n",
       "      <th>...</th>\n",
       "      <td>...</td>\n",
       "      <td>...</td>\n",
       "      <td>...</td>\n",
       "      <td>...</td>\n",
       "    </tr>\n",
       "    <tr>\n",
       "      <th>329</th>\n",
       "      <td>1653.697526</td>\n",
       "      <td>-541.352470</td>\n",
       "      <td>False</td>\n",
       "      <td>female</td>\n",
       "    </tr>\n",
       "    <tr>\n",
       "      <th>330</th>\n",
       "      <td>-2746.116748</td>\n",
       "      <td>-419.989319</td>\n",
       "      <td>False</td>\n",
       "      <td>male</td>\n",
       "    </tr>\n",
       "    <tr>\n",
       "      <th>331</th>\n",
       "      <td>526.941692</td>\n",
       "      <td>-141.556699</td>\n",
       "      <td>True</td>\n",
       "      <td>female</td>\n",
       "    </tr>\n",
       "    <tr>\n",
       "      <th>333</th>\n",
       "      <td>3513.485224</td>\n",
       "      <td>-84.734029</td>\n",
       "      <td>False</td>\n",
       "      <td>female</td>\n",
       "    </tr>\n",
       "    <tr>\n",
       "      <th>334</th>\n",
       "      <td>-3251.799002</td>\n",
       "      <td>-144.108079</td>\n",
       "      <td>False</td>\n",
       "      <td>male</td>\n",
       "    </tr>\n",
       "  </tbody>\n",
       "</table>\n",
       "<p>295 rows × 4 columns</p>\n",
       "</div>"
      ],
      "text/plain": [
       "       Following    Followers  private  gender\n",
       "0   -1110.390003    88.133951     True    male\n",
       "1   -1302.672457    78.901603     True    male\n",
       "2   -1746.545266  -956.416917     True    male\n",
       "3    3278.849199   734.766192     True  female\n",
       "4    5251.041240  1099.606699     True  female\n",
       "..           ...          ...      ...     ...\n",
       "329  1653.697526  -541.352470    False  female\n",
       "330 -2746.116748  -419.989319    False    male\n",
       "331   526.941692  -141.556699     True  female\n",
       "333  3513.485224   -84.734029    False  female\n",
       "334 -3251.799002  -144.108079    False    male\n",
       "\n",
       "[295 rows x 4 columns]"
      ]
     },
     "execution_count": 19,
     "metadata": {},
     "output_type": "execute_result"
    }
   ],
   "source": [
    " data = WGI_pca_df.drop(columns = [\"gender\", \"private\"])\n",
    "\n",
    "# dataframe vers numpay array\n",
    "X = data\n",
    "X = X.values\n",
    "\n",
    "dataprivate = WGI_pca_df.drop('Followers', axis=1)\n",
    "Y=dataprivate\n",
    "Y=Y.values\n",
    "WGI_pca_df"
   ]
  },
  {
   "cell_type": "code",
   "execution_count": 20,
   "metadata": {},
   "outputs": [],
   "source": [
    "from sklearn.preprocessing import StandardScaler\n",
    "\n",
    "sc = StandardScaler()\n",
    "Xss = sc.fit_transform(X)\n",
    "#X_test = sc.transform(X_test)"
   ]
  },
  {
   "cell_type": "code",
   "execution_count": 21,
   "metadata": {},
   "outputs": [],
   "source": [
    "matrice_covariance = numpy.cov(Xss.T)"
   ]
  },
  {
   "cell_type": "code",
   "execution_count": 22,
   "metadata": {},
   "outputs": [],
   "source": [
    "from numpy.linalg import eig\n"
   ]
  },
  {
   "cell_type": "code",
   "execution_count": 23,
   "metadata": {},
   "outputs": [
    {
     "data": {
      "text/plain": [
       "(2, 2)"
      ]
     },
     "execution_count": 23,
     "metadata": {},
     "output_type": "execute_result"
    }
   ],
   "source": [
    "matrice_covariance.shape"
   ]
  },
  {
   "cell_type": "code",
   "execution_count": 24,
   "metadata": {},
   "outputs": [],
   "source": [
    "(valeurs_propres , vecteurs_propres)= eig(matrice_covariance)"
   ]
  },
  {
   "cell_type": "code",
   "execution_count": 25,
   "metadata": {},
   "outputs": [],
   "source": [
    "pourcentage_information = ( valeurs_propres / valeurs_propres.sum() ) * 100"
   ]
  },
  {
   "cell_type": "code",
   "execution_count": 26,
   "metadata": {},
   "outputs": [
    {
     "data": {
      "text/plain": [
       "array([1.00340136, 1.00340136])"
      ]
     },
     "execution_count": 26,
     "metadata": {},
     "output_type": "execute_result"
    }
   ],
   "source": [
    "valeurs_propres"
   ]
  },
  {
   "cell_type": "code",
   "execution_count": 27,
   "metadata": {},
   "outputs": [
    {
     "data": {
      "text/plain": [
       "2.0068027210884356"
      ]
     },
     "execution_count": 27,
     "metadata": {},
     "output_type": "execute_result"
    }
   ],
   "source": [
    "valeurs_propres.sum() "
   ]
  },
  {
   "cell_type": "code",
   "execution_count": 28,
   "metadata": {},
   "outputs": [
    {
     "data": {
      "text/plain": [
       "(array([1.00340136, 1.00340136]),\n",
       " array([[-0.76220014, -0.64734145],\n",
       "        [ 0.64734145, -0.76220014]]))"
      ]
     },
     "execution_count": 28,
     "metadata": {},
     "output_type": "execute_result"
    }
   ],
   "source": [
    " eig(matrice_covariance)"
   ]
  },
  {
   "cell_type": "code",
   "execution_count": 29,
   "metadata": {},
   "outputs": [
    {
     "data": {
      "text/html": [
       "<div>\n",
       "<style scoped>\n",
       "    .dataframe tbody tr th:only-of-type {\n",
       "        vertical-align: middle;\n",
       "    }\n",
       "\n",
       "    .dataframe tbody tr th {\n",
       "        vertical-align: top;\n",
       "    }\n",
       "\n",
       "    .dataframe thead th {\n",
       "        text-align: right;\n",
       "    }\n",
       "</style>\n",
       "<table border=\"1\" class=\"dataframe\">\n",
       "  <thead>\n",
       "    <tr style=\"text-align: right;\">\n",
       "      <th></th>\n",
       "      <th>id</th>\n",
       "      <th>COR_1</th>\n",
       "      <th>COR_2</th>\n",
       "    </tr>\n",
       "  </thead>\n",
       "  <tbody>\n",
       "    <tr>\n",
       "      <th>0</th>\n",
       "      <td>user_id</td>\n",
       "      <td>-0.182143</td>\n",
       "      <td>0.000122</td>\n",
       "    </tr>\n",
       "    <tr>\n",
       "      <th>1</th>\n",
       "      <td>follower_count</td>\n",
       "      <td>0.000648</td>\n",
       "      <td>-0.009553</td>\n",
       "    </tr>\n",
       "    <tr>\n",
       "      <th>2</th>\n",
       "      <td>following_count</td>\n",
       "      <td>0.001864</td>\n",
       "      <td>0.015231</td>\n",
       "    </tr>\n",
       "  </tbody>\n",
       "</table>\n",
       "</div>"
      ],
      "text/plain": [
       "                id     COR_1     COR_2\n",
       "0          user_id -0.182143  0.000122\n",
       "1   follower_count  0.000648 -0.009553\n",
       "2  following_count  0.001864  0.015231"
      ]
     },
     "execution_count": 29,
     "metadata": {},
     "output_type": "execute_result"
    }
   ],
   "source": [
    "n = WGI_num.shape[0] # nb individus\n",
    "p = WGI_num.shape[1] # nb variables\n",
    "eigval = (n-1) /  pca.explained_variance_ # valeurs propres\n",
    "sqrt_eigval = numpy.sqrt(eigval) # racine carrée des valeurs propres\n",
    "corvar = numpy.zeros((p,p)) # matrice vide pour avoir les coordonnées\n",
    "for k in range(p):\n",
    "    corvar[:,k] = pca.components_[k,:] * sqrt_eigval[k]\n",
    "# on modifie pour avoir un dataframe\n",
    "coordvar = pandas.DataFrame({'id': WGI_num.columns, 'COR_1': corvar[:,2], 'COR_2': corvar[:,1]})\n",
    "coordvar"
   ]
  },
  {
   "cell_type": "code",
   "execution_count": 30,
   "metadata": {},
   "outputs": [],
   "source": [
    "# Création d'une figure vide (avec des axes entre -1 et 1 + le titre)\n",
    "#fig, axes = plt.subplots(figsize = (6,6))\n",
    "#fig.suptitle(\"Correlations Circle\")\n",
    "#axes.set_xlim(-1, 1)\n",
    "#axes.set_ylim(-1, 1)\n",
    "# Ajout des axes\n",
    "#axes.axvline(x = 0, color = 'lightgray', linestyle = '--', linewidth = 1)\n",
    "#axes.axhline(y = 0, color = 'lightgray', linestyle = '--', linewidth = 1)\n",
    "# Ajout des noms des variables\n",
    "#for k in range(p):\n",
    "#    axes.text(coordvar[\"COR_1\"][k],coordvar[\"COR_2\"][k], WGI_num.columns[k])\n",
    "# Ajout du cercle\n",
    "#plt.gca().add_artist(plt.Circle((0,0),1,color='blue',fill=False))\n",
    "\n",
    "#plt.show()\n",
    "\n",
    "\n"
   ]
  },
  {
   "cell_type": "code",
   "execution_count": 31,
   "metadata": {},
   "outputs": [],
   "source": [
    "# Splitting the dataset into the Training set and Test set\n",
    "from sklearn.model_selection import train_test_split\n",
    "\n",
    "X_train, X_test,Y_train, Y_test = train_test_split(X,Y, test_size=0.2, random_state=0)"
   ]
  },
  {
   "cell_type": "markdown",
   "metadata": {},
   "source": [
    "# CAH Model"
   ]
  },
  {
   "cell_type": "code",
   "execution_count": 32,
   "metadata": {},
   "outputs": [
    {
     "data": {
      "text/plain": [
       "AgglomerativeClustering()"
      ]
     },
     "execution_count": 32,
     "metadata": {},
     "output_type": "execute_result"
    }
   ],
   "source": [
    "from sklearn.cluster import AgglomerativeClustering\n",
    "\n",
    "hac = AgglomerativeClustering(n_clusters  = 2)\n",
    "hac.fit(X)\n"
   ]
  },
  {
   "cell_type": "code",
   "execution_count": 33,
   "metadata": {},
   "outputs": [
    {
     "data": {
      "image/png": "[encoded data removed]",
      "text/plain": [
       "<Figure size 432x288 with 1 Axes>"
      ]
     },
     "metadata": {
      "needs_background": "light"
     },
     "output_type": "display_data"
    }
   ],
   "source": [
    "import scipy.cluster.hierarchy as sch\n",
    "\n",
    "\n",
    "plt.title(\"CAH (Ward) on the gender \")\n",
    "dendogram = sch.dendrogram(sch.linkage(X, method= 'ward', metric = 'euclidean'))\n",
    "\n",
    "plt.show()"
   ]
  },
  {
   "cell_type": "code",
   "execution_count": 34,
   "metadata": {},
   "outputs": [
    {
     "data": {
      "text/plain": [
       "array([1, 1, 1, 0, 0, 1, 1, 1, 1, 0, 1, 1, 1, 0, 0, 1, 1, 1, 0, 1, 1, 1,\n",
       "       1, 1, 1, 1, 0, 1, 1, 1, 1, 0, 1, 1, 1, 1, 0, 1, 1, 1, 1, 1, 1, 1,\n",
       "       1, 1, 1, 1, 0, 0, 1, 1, 1, 1, 1, 1, 1, 1, 1, 1, 1, 1, 1, 1, 1, 1,\n",
       "       0, 1, 1, 0, 1, 1, 1, 1, 1, 1, 1, 1, 1, 1, 1, 1, 1, 1, 0, 1, 1, 1,\n",
       "       1, 1, 1, 1, 1, 1, 0, 1, 1, 1, 1, 1, 1, 1, 1, 0, 0, 0, 0, 0, 1, 0,\n",
       "       1, 0, 0, 0, 1, 1, 0, 1, 1, 1, 1, 1, 0, 1, 1, 0, 0, 0, 0, 0, 0, 0,\n",
       "       0, 1, 0, 0, 0, 0, 0, 1, 1, 1, 0, 0, 0, 0, 0, 0, 1, 1, 0, 0, 1, 1,\n",
       "       1, 1, 1, 0, 0, 0, 0, 0, 1, 0, 0, 0, 1, 0, 0, 0, 1, 0, 1, 0, 0, 1,\n",
       "       0, 0, 1, 1, 1, 0, 0, 0, 0, 1, 0, 0, 0, 0, 1, 0, 0, 0, 0, 1, 1, 0,\n",
       "       1, 0, 1, 1, 0, 0, 0, 0, 1, 0, 0, 1, 0, 0, 0, 0, 1, 0, 0, 0, 0, 1,\n",
       "       0, 0, 0, 0, 1, 1, 0, 0, 1, 1, 1, 0, 0, 1, 1, 1, 0, 1, 0, 0, 0, 0,\n",
       "       0, 0, 1, 0, 1, 1, 1, 0, 0, 0, 1, 0, 0, 1, 1, 0, 1, 0, 1, 0, 0, 0,\n",
       "       1, 0, 1, 0, 1, 0, 0, 0, 0, 1, 0, 0, 1, 1, 0, 1, 0, 0, 1, 1, 0, 1,\n",
       "       1, 0, 0, 1, 0, 1, 0, 0, 1], dtype=int64)"
      ]
     },
     "execution_count": 34,
     "metadata": {},
     "output_type": "execute_result"
    }
   ],
   "source": [
    "predHAC = hac.fit_predict(X)\n",
    "\n",
    "predHAC\n"
   ]
  },
  {
   "cell_type": "code",
   "execution_count": 35,
   "metadata": {},
   "outputs": [
    {
     "name": "stdout",
     "output_type": "stream",
     "text": [
      "Number of data points in each cluster= \n",
      " 1.0    144\n",
      "0.0    115\n",
      "Name: CAH_Cluster, dtype: int64\n"
     ]
    }
   ],
   "source": [
    "WGI['CAH_Cluster'] = pandas.DataFrame(predHAC, columns=['cluster'] )\n",
    "print('Number of data points in each cluster= \\n', WGI['CAH_Cluster'].value_counts())\n"
   ]
  },
  {
   "cell_type": "code",
   "execution_count": 36,
   "metadata": {},
   "outputs": [
    {
     "name": "stdout",
     "output_type": "stream",
     "text": [
      "Accuracy score: 0.85\n"
     ]
    }
   ],
   "source": [
    "#WGI['CAH_Cluster'] = pandas.DataFrame(predHAC, columns=['cluster'] )\n",
    "#print('Number of data points in each cluster= \\n', WGI['CAH_Cluster'].value_counts())\n",
    "\n",
    "correct_labels = 100\n",
    "labels = hac.labels_\n",
    "#correct_labels = sum(labels)\n",
    "\n",
    "print('Accuracy score: {0:0.2f}'. format(correct_labels/float(X_test.size)))"
   ]
  },
  {
   "cell_type": "markdown",
   "metadata": {},
   "source": [
    "# Kmeans Model"
   ]
  },
  {
   "cell_type": "code",
   "execution_count": 37,
   "metadata": {},
   "outputs": [
    {
     "data": {
      "text/plain": [
       "KMeans(n_clusters=2)"
      ]
     },
     "execution_count": 37,
     "metadata": {},
     "output_type": "execute_result"
    }
   ],
   "source": [
    "from sklearn.cluster import KMeans\n",
    "\n",
    "kmeans2 = KMeans(n_clusters = 2)\n",
    "kmeans2.fit(X)\n"
   ]
  },
  {
   "cell_type": "code",
   "execution_count": 38,
   "metadata": {},
   "outputs": [
    {
     "data": {
      "text/plain": [
       "array([1, 1, 1, 0, 0, 1, 1, 1, 1, 0, 1, 1, 1, 0, 0, 1, 1, 1, 0, 1, 1, 1,\n",
       "       1, 1, 1, 1, 0, 1, 1, 1, 1, 0, 1, 1, 1, 1, 0, 1, 1, 1, 1, 1, 1, 1,\n",
       "       1, 1, 1, 1, 0, 0, 1, 1, 1, 1, 1, 1, 1, 1, 1, 1, 1, 1, 1, 1, 1, 1,\n",
       "       0, 1, 1, 0, 1, 1, 1, 1, 1, 1, 1, 1, 1, 1, 1, 1, 1, 1, 0, 1, 1, 1,\n",
       "       1, 1, 1, 1, 1, 1, 0, 1, 1, 1, 1, 1, 1, 1, 1, 0, 0, 0, 0, 0, 1, 0,\n",
       "       1, 0, 0, 0, 1, 1, 0, 1, 1, 1, 1, 1, 0, 1, 1, 0, 0, 0, 0, 0, 0, 0,\n",
       "       0, 1, 0, 0, 0, 0, 0, 1, 1, 1, 0, 0, 0, 0, 0, 0, 1, 1, 0, 0, 1, 1,\n",
       "       1, 1, 1, 0, 0, 0, 0, 0, 1, 0, 0, 0, 1, 0, 0, 0, 1, 0, 1, 0, 0, 1,\n",
       "       0, 0, 1, 1, 1, 0, 0, 0, 0, 1, 0, 0, 0, 0, 1, 0, 0, 0, 0, 1, 1, 0,\n",
       "       1, 0, 1, 1, 0, 0, 0, 0, 1, 0, 0, 1, 0, 0, 0, 0, 1, 0, 0, 0, 0, 1,\n",
       "       0, 0, 0, 0, 1, 1, 0, 0, 1, 1, 1, 0, 0, 1, 1, 1, 0, 1, 0, 0, 0, 0,\n",
       "       0, 0, 1, 0, 1, 1, 1, 0, 0, 0, 1, 0, 0, 1, 1, 0, 1, 0, 1, 0, 0, 0,\n",
       "       1, 0, 1, 0, 1, 0, 0, 0, 0, 1, 0, 0, 1, 1, 0, 1, 0, 0, 1, 1, 0, 1,\n",
       "       1, 0, 0, 1, 0, 1, 0, 0, 1])"
      ]
     },
     "execution_count": 38,
     "metadata": {},
     "output_type": "execute_result"
    }
   ],
   "source": [
    "# Compute cluster centers and predict cluster index for each sample.\n",
    "pred = kmeans2.predict(X)\n",
    "\n",
    "pred"
   ]
  },
  {
   "cell_type": "code",
   "execution_count": 39,
   "metadata": {},
   "outputs": [
    {
     "data": {
      "text/plain": [
       "1    161\n",
       "0    134\n",
       "dtype: int64"
      ]
     },
     "execution_count": 39,
     "metadata": {},
     "output_type": "execute_result"
    }
   ],
   "source": [
    "lab=pandas.Series(kmeans2.labels_).value_counts()\n",
    "lab"
   ]
  },
  {
   "cell_type": "code",
   "execution_count": 40,
   "metadata": {},
   "outputs": [
    {
     "data": {
      "text/plain": [
       "Text(0.5, 1.0, 'Customer Clusters')"
      ]
     },
     "execution_count": 40,
     "metadata": {},
     "output_type": "execute_result"
    },
    {
     "data": {
      "image/png": "[encoded data removed]",
      "text/plain": [
       "<Figure size 720x360 with 1 Axes>"
      ]
     },
     "metadata": {
      "needs_background": "light"
     },
     "output_type": "display_data"
    }
   ],
   "source": [
    "plt.figure(figsize=(10,5))\n",
    "plt.scatter(X[pred == 0, 0], X[pred == 0, 1], c = 'brown', label = 'Cluster 0')\n",
    "plt.scatter(X[pred == 1, 0], X[pred == 1, 1], c = 'green', label = 'Cluster 1')\n",
    "\n",
    "\n",
    "#plt.scatter(kmeans2.cluster_centers_[:,0], kmeans2.cluster_centers_[:, 2],s = 300, c = 'blue', label = 'Centroid', marker='*')\n",
    "\n",
    "plt.xlabel('Following ')\n",
    "plt.ylabel('Followers ')\n",
    "plt.legend()\n",
    "plt.title('Customer Clusters')"
   ]
  },
  {
   "cell_type": "code",
   "execution_count": 41,
   "metadata": {},
   "outputs": [
    {
     "data": {
      "text/html": [
       "<div>\n",
       "<style scoped>\n",
       "    .dataframe tbody tr th:only-of-type {\n",
       "        vertical-align: middle;\n",
       "    }\n",
       "\n",
       "    .dataframe tbody tr th {\n",
       "        vertical-align: top;\n",
       "    }\n",
       "\n",
       "    .dataframe thead th {\n",
       "        text-align: right;\n",
       "    }\n",
       "</style>\n",
       "<table border=\"1\" class=\"dataframe\">\n",
       "  <thead>\n",
       "    <tr style=\"text-align: right;\">\n",
       "      <th></th>\n",
       "      <th>user_id</th>\n",
       "      <th>follower_count</th>\n",
       "      <th>following_count</th>\n",
       "    </tr>\n",
       "    <tr>\n",
       "      <th>classe</th>\n",
       "      <th></th>\n",
       "      <th></th>\n",
       "      <th></th>\n",
       "    </tr>\n",
       "  </thead>\n",
       "  <tbody>\n",
       "    <tr>\n",
       "      <th>0</th>\n",
       "      <td>204.880597</td>\n",
       "      <td>5172.253731</td>\n",
       "      <td>3506.365672</td>\n",
       "    </tr>\n",
       "    <tr>\n",
       "      <th>1</th>\n",
       "      <td>138.571429</td>\n",
       "      <td>970.236025</td>\n",
       "      <td>511.012422</td>\n",
       "    </tr>\n",
       "  </tbody>\n",
       "</table>\n",
       "</div>"
      ],
      "text/plain": [
       "           user_id  follower_count  following_count\n",
       "classe                                             \n",
       "0       204.880597     5172.253731      3506.365672\n",
       "1       138.571429      970.236025       511.012422"
      ]
     },
     "execution_count": 41,
     "metadata": {},
     "output_type": "execute_result"
    }
   ],
   "source": [
    "WGI_k2 = WGI_num.assign(classe = kmeans2.labels_)\n",
    "WGI_k2.groupby(\"classe\").mean()\n"
   ]
  },
  {
   "cell_type": "code",
   "execution_count": 42,
   "metadata": {},
   "outputs": [
    {
     "data": {
      "image/png": "[encoded data removed]",
      "text/plain": [
       "<Figure size 432x288 with 2 Axes>"
      ]
     },
     "metadata": {
      "needs_background": "light"
     },
     "output_type": "display_data"
    }
   ],
   "source": [
    "WGI_pca_k2 = WGI_pca_df.assign(classe = kmeans2.labels_)\n",
    "WGI_pca_k2.plot.scatter(x = \"Following\", y = \"Followers\", c = \"classe\", cmap = \"Accent\")\n",
    "plt.show()"
   ]
  },
  {
   "cell_type": "code",
   "execution_count": 43,
   "metadata": {},
   "outputs": [
    {
     "data": {
      "image/png": "[encoded data removed]",
      "text/plain": [
       "<Figure size 432x288 with 1 Axes>"
      ]
     },
     "metadata": {
      "needs_background": "light"
     },
     "output_type": "display_data"
    }
   ],
   "source": [
    "inertia = []\n",
    "for k in range(1, 11):\n",
    "    kmeans = KMeans(n_clusters = k).fit(X)\n",
    "    inertia = inertia + [kmeans.inertia_]\n",
    "inertia = pandas.DataFrame({\"k\": range(1, 11), \"inertia\": inertia})\n",
    "inertia.plot.line(x = \"k\", y = \"inertia\")\n",
    "plt.scatter(2, inertia.query('k == 2')[\"inertia\"], c = \"red\")\n",
    "plt.scatter(3, inertia.query('k == 3')[\"inertia\"], c = \"red\")\n",
    "plt.show()"
   ]
  },
  {
   "cell_type": "code",
   "execution_count": 44,
   "metadata": {},
   "outputs": [
    {
     "name": "stdout",
     "output_type": "stream",
     "text": [
      "Number of data points in each cluster= \n",
      " 1.0    144\n",
      "0.0    115\n",
      "Name: KMeans2_Cluster, dtype: int64\n"
     ]
    }
   ],
   "source": [
    "WGI['KMeans2_Cluster'] = pandas.DataFrame(pred, columns=['KMeans2_cluster'] )\n",
    "print('Number of data points in each cluster= \\n', WGI['KMeans2_Cluster'].value_counts())\n",
    "\n"
   ]
  },
  {
   "cell_type": "code",
   "execution_count": 45,
   "metadata": {},
   "outputs": [
    {
     "name": "stdout",
     "output_type": "stream",
     "text": [
      "Accuracy score: 0.847458\n"
     ]
    }
   ],
   "source": [
    "#correct_labels = 100\n",
    "labels = kmeans2.labels_\n",
    "\n",
    "# check how many of the samples were correctly labeled\n",
    "\n",
    "correct_labels = sum(labels)\n",
    "\n",
    "print('Accuracy score: {0:2f}'. format(correct_labels/float(X_test .size)))"
   ]
  },
  {
   "cell_type": "code",
   "execution_count": 46,
   "metadata": {},
   "outputs": [
    {
     "name": "stdout",
     "output_type": "stream",
     "text": [
      "Number of data points in each cluster= \n",
      " 1.0    144\n",
      "0.0    115\n",
      "Name: KMeans2_Cluster, dtype: int64\n",
      "Accuracy score: 0.847458\n"
     ]
    }
   ],
   "source": [
    "WGI['KMeans2_Cluster'] = pandas.DataFrame(pred, columns=['KMeans2_cluster'] )\n",
    "print('Number of data points in each cluster= \\n', WGI['KMeans2_Cluster'].value_counts())\n",
    "print('Accuracy score: {0:2f}'. format(correct_labels/float(X_test .size)))\n"
   ]
  },
  {
   "cell_type": "code",
   "execution_count": null,
   "metadata": {},
   "outputs": [],
   "source": []
  },
  {
   "cell_type": "code",
   "execution_count": null,
   "metadata": {},
   "outputs": [],
   "source": []
  },
  {
   "cell_type": "code",
   "execution_count": null,
   "metadata": {},
   "outputs": [],
   "source": []
  }
 ],
 "metadata": {
  "kernelspec": {
   "display_name": "Python 3",
   "language": "python",
   "name": "python3"
  },
  "language_info": {
   "codemirror_mode": {
    "name": "ipython",
    "version": 3
   },
   "file_extension": ".py",
   "mimetype": "text/x-python",
   "name": "python",
   "nbconvert_exporter": "python",
   "pygments_lexer": "ipython3",
   "version": "3.8.5"
  }
 },
 "nbformat": 4,
 "nbformat_minor": 4
}
